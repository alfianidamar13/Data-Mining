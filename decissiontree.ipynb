{
  "nbformat": 4,
  "nbformat_minor": 0,
  "metadata": {
    "colab": {
      "name": "decissiontree.ipynb",
      "provenance": [],
      "authorship_tag": "ABX9TyNjWHOWPKZZV3hPMhqvwV8Z",
      "include_colab_link": true
    },
    "kernelspec": {
      "name": "python3",
      "display_name": "Python 3"
    },
    "language_info": {
      "name": "python"
    }
  },
  "cells": [
    {
      "cell_type": "markdown",
      "metadata": {
        "id": "view-in-github",
        "colab_type": "text"
      },
      "source": [
        "<a href=\"https://colab.research.google.com/github/alfianidamar13/Data-Mining/blob/main/decissiontree.ipynb\" target=\"_parent\"><img src=\"https://colab.research.google.com/assets/colab-badge.svg\" alt=\"Open In Colab\"/></a>"
      ]
    },
    {
      "cell_type": "code",
      "metadata": {
        "id": "V0ejpBiwoiQn"
      },
      "source": [
        "import numpy as np\n",
        "import pandas as pd\n",
        "from sklearn import tree"
      ],
      "execution_count": 1,
      "outputs": []
    },
    {
      "cell_type": "code",
      "metadata": {
        "id": "wgh1PzAT13Rt"
      },
      "source": [
        "irisDataset = pd.read_csv('Iris.csv',delimiter=',',header=0)\n"
      ],
      "execution_count": 3,
      "outputs": []
    },
    {
      "cell_type": "code",
      "metadata": {
        "id": "UihKOEiM-2E5"
      },
      "source": [
        "irisDataset [\"Species\"]= pd.factorize(irisDataset.Species)[0] "
      ],
      "execution_count": 4,
      "outputs": []
    },
    {
      "cell_type": "code",
      "metadata": {
        "id": "5VC0FvRrDNAg"
      },
      "source": [
        "irisDataset = irisDataset.drop(labels=\"Id\", axis=1)"
      ],
      "execution_count": 5,
      "outputs": []
    },
    {
      "cell_type": "code",
      "metadata": {
        "id": "Jd5MLb2VEoS8"
      },
      "source": [
        "irisDataset = irisDataset.to_numpy()"
      ],
      "execution_count": 6,
      "outputs": []
    },
    {
      "cell_type": "code",
      "metadata": {
        "id": "toXEEfzzGZ-K"
      },
      "source": [
        "dataTraining = np.concatenate((irisDataset[0:40,:],\n",
        "                               irisDataset[50:90,:]), axis=0)\n",
        "dataTesting = np.concatenate((irisDataset[40:50,:],\n",
        "                               irisDataset[90:100,:]), axis=0)"
      ],
      "execution_count": 7,
      "outputs": []
    },
    {
      "cell_type": "code",
      "metadata": {
        "id": "KK3H5HTLJxcu"
      },
      "source": [
        "inputTraining = dataTraining[:,0:4]\n",
        "inputTesting = dataTesting[:,0:4]\n",
        "labelTraining = dataTraining[:,4]\n",
        "labelTesting = dataTesting[:,4]"
      ],
      "execution_count": 8,
      "outputs": []
    },
    {
      "cell_type": "code",
      "metadata": {
        "id": "cbpwIdn2L7NM"
      },
      "source": [
        "model = tree.DecisionTreeClassifier()"
      ],
      "execution_count": 9,
      "outputs": []
    },
    {
      "cell_type": "code",
      "metadata": {
        "id": "xxoL7euAq0Ip"
      },
      "source": [
        "model = model.fit(inputTraining , labelTraining)"
      ],
      "execution_count": 10,
      "outputs": []
    },
    {
      "cell_type": "code",
      "metadata": {
        "colab": {
          "base_uri": "https://localhost:8080/"
        },
        "id": "N6G1YKp-rUbA",
        "outputId": "c8afa1be-3ab6-44b6-fdda-cec061edb75e"
      },
      "source": [
        "hasilPrediksi = model.predict(inputTesting)\n",
        "print(\"Label Sebenarnya\", labelTesting)\n",
        "print(\"Hasil Prediksi\", hasilPrediksi)\n"
      ],
      "execution_count": 11,
      "outputs": [
        {
          "output_type": "stream",
          "text": [
            "Label Sebenarnya [0. 0. 0. 0. 0. 0. 0. 0. 0. 0. 1. 1. 1. 1. 1. 1. 1. 1. 1. 1.]\n",
            "Hasil Prediksi [0. 0. 0. 0. 0. 0. 0. 0. 0. 0. 1. 1. 1. 1. 1. 1. 1. 1. 1. 1.]\n"
          ],
          "name": "stdout"
        }
      ]
    },
    {
      "cell_type": "code",
      "metadata": {
        "colab": {
          "base_uri": "https://localhost:8080/"
        },
        "id": "GoEyWvIhr-GW",
        "outputId": "591b4063-0521-4abc-d99d-6c443439df67"
      },
      "source": [
        "prediksiBenar = (hasilPrediksi == labelTesting).sum()\n",
        "prediksiSalah = (hasilPrediksi != labelTesting).sum()\n",
        "print(\"Prediksi Benar : \",prediksiBenar,\"data\")\n",
        "print(\"Prediksi Salah : \",prediksiSalah,\"data\")\n",
        "print(\"Akurasi : \",prediksiBenar/(prediksiBenar+prediksiSalah)*100,\"%\")"
      ],
      "execution_count": 12,
      "outputs": [
        {
          "output_type": "stream",
          "text": [
            "Prediksi Benar :  20 data\n",
            "Prediksi Salah :  0 data\n",
            "Akurasi :  100.0 %\n"
          ],
          "name": "stdout"
        }
      ]
    }
  ]
}