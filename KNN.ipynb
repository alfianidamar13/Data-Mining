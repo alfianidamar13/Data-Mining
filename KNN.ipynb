{
  "nbformat": 4,
  "nbformat_minor": 0,
  "metadata": {
    "colab": {
      "name": "KNN.ipynb",
      "provenance": [],
      "authorship_tag": "ABX9TyM6mkj6zHWXw46wcvDcXWsd",
      "include_colab_link": true
    },
    "kernelspec": {
      "name": "python3",
      "display_name": "Python 3"
    },
    "language_info": {
      "name": "python"
    }
  },
  "cells": [
    {
      "cell_type": "markdown",
      "metadata": {
        "id": "view-in-github",
        "colab_type": "text"
      },
      "source": [
        "<a href=\"https://colab.research.google.com/github/alfianidamar13/Data-Mining/blob/main/KNN.ipynb\" target=\"_parent\"><img src=\"https://colab.research.google.com/assets/colab-badge.svg\" alt=\"Open In Colab\"/></a>"
      ]
    },
    {
      "cell_type": "code",
      "metadata": {
        "id": "WcxBpHi6j4gy"
      },
      "source": [
        "import numpy as np\n",
        "import matplotlib.pyplot as plt\n",
        "import pandas as pd"
      ],
      "execution_count": 47,
      "outputs": []
    },
    {
      "cell_type": "code",
      "metadata": {
        "id": "N9VgFbkVzBD3"
      },
      "source": [
        "dataset = pd.read_csv(\"test.csv\")\n",
        "x = dataset.iloc[:,[2,3]].values\n",
        "y = dataset.iloc[:,-1].values"
      ],
      "execution_count": 48,
      "outputs": []
    },
    {
      "cell_type": "code",
      "metadata": {
        "colab": {
          "base_uri": "https://localhost:8080/"
        },
        "id": "WvCwa7gFI_mj",
        "outputId": "87766929-39c3-4872-e69e-ff7d569447aa"
      },
      "source": [
        "print(y)"
      ],
      "execution_count": 49,
      "outputs": [
        {
          "output_type": "stream",
          "text": [
            "[0 0 1 0 1 1 0 1 0 1 0 1 0 0 0 1 0 0 1 0 0 0 1 0 0 1 0 1 1 0 0 0 0 0 0 1 1\n",
            " 1 0 1 1 1 1 0 0 0 1 1 0 0 1 0 1 1 0 1 1 1 1 1 1 1 0 1 0 0 1 1 1 1 1 1 0 0\n",
            " 0 1 1 0 1 0 1 0 0 0 1 0 1 1 1 1 0 1 1 0 1 1 0 1 0 0 0 0 0 0 1 1 0 1 1 1 0\n",
            " 1 1 0 0 0 0 1 0 1 1 1 1 1 0 0 1 1 0 0 1 0 1 0 1 0 1 1 0 0 1 1 1 0 1 0 1 0\n",
            " 0 1 1 0 0 1 0 1 1 0 1 0 0 0 0 0 1 1 1 1 1 1 1 1 0 1 1 1 0 1 0 1 1 1 1 0 0\n",
            " 1 0 0 1 1 1 0 0 0 0 1 1 0 1 0 1 0 1 0 0 0 1 1 1 1 1 0 1 1 0 0 1 0 1 1 0 0\n",
            " 1 0 1 0 0 1 1 0 0 1 1 1 0 1 0 1 0 0 0 1 1 1 1 0 1 0 0 1 0 1 1 1 0 1 1 1 0\n",
            " 1 0 1 0 0 1 0 1 1 0 1 1 0 1 0 0 1 0 0 1 0 1 0 1 1 0 0 1 0 1 1 0 1 0 1 1 1\n",
            " 1 0 0 0 0 0 1 0 0 1 1 0 0 0 1 1 1 1 1 1 1 1 0 1 0 0 0 1 0 1 1 0 1 0 0 1 0\n",
            " 0 1 1 1 1 1 1 0 1 1 1 0 1 0 0 0 0 1 0 1 1 1 1 1 1 0 1 0 1 0 0 0 1 1 1 0 0\n",
            " 0 1 1 0 0 1 0 1 1 0 1 1 1 0 0 0 1 1 0 0 1 1 0 0 1 1 1 0 0 0 0 0 1 1 1 0 0\n",
            " 1 1 0 0 1 1 0 0 1 1 1 0 1 0 0 1 1 1 1 0 1 1 0 0 1 0 0 1 0 0 0 1 1 0 1 1 1\n",
            " 1 1 0 1 1 0 0 1 0 0 0 1 1 0 0 0 0 0 1 0 0 0 0 1 1 0 1 1 0 0 1 1 0 1 1 1 0\n",
            " 0 1 1 1 0 0 1 0 0 1 0 1 0 1 0 0 1 1 1 1 1 1 0 1 1 1 0 0 1 1 0 1 0 0 0 0 0\n",
            " 1 0 0 0 0 0 1 0 0 0 0 0 0 0 1 0 0 0 1 1 1 0 1 1 0 1 1 1 1 0 1 1 1 0 1 1 0\n",
            " 0 0 1 1 0 0 0 1 0 1 0 0 1 0 1 1 1 0 0 1 0 0 0 1 1 0 0 1 1 0 0 1 1 0 1 1 0\n",
            " 0 1 1 1 1 0 1 1 1 1 1 0 1 1 0 0 0 0 1 0 0 0 1 0 0 1 1 0 1 0 0 1 1 0 0 0 0\n",
            " 0 1 0 1 0 0 0 1 1 0 0 1 1 1 1 0 0 1 0 1 1 1 0 1 0 1 0 1 1 0 1 0 1 1 0 0 1\n",
            " 1 0 0 0 1 1 1 0 1 1 0 1 1 0 0 0 1 1 1 0 1 0 0 0 0 0 0 0 0 1 0 1 0 1 0 0 0\n",
            " 0 1 1 1 0 0 0 0 0 0 0 0 1 0 0 0 1 0 1 1 1 1 0 1 0 1 1 1 0 0 1 0 0 1 1 1 1\n",
            " 0 1 0 0 1 0 0 0 1 0 1 1 0 0 0 0 0 0 1 1 1 1 1 0 1 0 0 1 1 1 0 0 0 1 1 0 1\n",
            " 1 1 1 0 1 0 1 1 1 1 1 0 0 0 1 1 0 0 0 0 0 1 0 0 0 1 1 0 0 1 0 0 1 1 1 1 0\n",
            " 1 1 1 0 1 0 1 1 0 0 1 1 1 0 0 1 1 1 0 0 0 0 1 0 0 0 0 1 0 1 1 0 1 0 1 0 0\n",
            " 1 1 0 1 1 1 0 1 0 1 0 1 0 0 0 0 1 1 0 1 0 1 1 1 0 1 1 0 1 0 0 1 0 0 0 0 1\n",
            " 1 1 0 1 0 0 0 0 0 1 1 0 0 0 1 0 1 0 0 1 0 0 0 1 1 1 1 1 0 1 1 0 1 0 1 1 1\n",
            " 1 1 0 1 0 1 1 0 1 0 0 0 1 1 1 0 0 0 1 0 1 0 0 1 0 0 1 0 1 1 0 1 0 1 1 1 0\n",
            " 1 1 1 0 0 1 0 0 0 0 0 1 0 1 0 0 1 0 1 1 1 0 0 0 0 0 0 0 1 1 1 1 1 0 1 0 0\n",
            " 1]\n"
          ],
          "name": "stdout"
        }
      ]
    },
    {
      "cell_type": "code",
      "metadata": {
        "colab": {
          "base_uri": "https://localhost:8080/"
        },
        "id": "GDZv-gGGNnLb",
        "outputId": "96de2e6c-d86f-4596-9112-76260c8e631f"
      },
      "source": [
        "print(x)"
      ],
      "execution_count": 50,
      "outputs": [
        {
          "output_type": "stream",
          "text": [
            "[[1.  1.8]\n",
            " [1.  0.5]\n",
            " [1.  2.8]\n",
            " ...\n",
            " [0.  1.4]\n",
            " [1.  0.5]\n",
            " [1.  0.5]]\n"
          ],
          "name": "stdout"
        }
      ]
    },
    {
      "cell_type": "code",
      "metadata": {
        "id": "mszx3Mn1znnX"
      },
      "source": [
        "from sklearn.model_selection import train_test_split\n",
        "x_train,x_test,y_train,y_test = train_test_split(x,y,test_size=0.25,random_state=0)"
      ],
      "execution_count": 51,
      "outputs": []
    },
    {
      "cell_type": "code",
      "metadata": {
        "id": "bRF8DcqkAd34"
      },
      "source": [
        "from sklearn.preprocessing import StandardScaler\n",
        "sc = StandardScaler()\n",
        "x_train = sc.fit_transform(x_train)\n",
        "x_test = sc.transform(x_test)\n"
      ],
      "execution_count": 52,
      "outputs": []
    },
    {
      "cell_type": "code",
      "metadata": {
        "colab": {
          "base_uri": "https://localhost:8080/"
        },
        "id": "a-P4qO98JWEv",
        "outputId": "7858f042-1117-48d6-965d-cf1483f9d617"
      },
      "source": [
        "print(x_train)"
      ],
      "execution_count": 53,
      "outputs": [
        {
          "output_type": "stream",
          "text": [
            "[[ 0.98150435 -1.24149031]\n",
            " [ 0.98150435  1.50657947]\n",
            " [-1.01884419  1.38709818]\n",
            " ...\n",
            " [-1.01884419  0.7896917 ]\n",
            " [-1.01884419 -1.24149031]\n",
            " [ 0.98150435 -1.24149031]]\n"
          ],
          "name": "stdout"
        }
      ]
    },
    {
      "cell_type": "code",
      "metadata": {
        "colab": {
          "base_uri": "https://localhost:8080/"
        },
        "id": "WKtcbMDXJe-V",
        "outputId": "270a9ee2-2bad-4d81-8703-8ec4b3adc3cb"
      },
      "source": [
        "print(x_test)"
      ],
      "execution_count": 54,
      "outputs": [
        {
          "output_type": "stream",
          "text": [
            "[[ 0.98150435  1.38709818]\n",
            " [ 0.98150435  0.909173  ]\n",
            " [ 0.98150435  0.55072911]\n",
            " [-1.01884419 -1.24149031]\n",
            " [ 0.98150435 -1.00252772]\n",
            " [-1.01884419 -0.52460254]\n",
            " [-1.01884419 -1.24149031]\n",
            " [ 0.98150435  0.07280394]\n",
            " [-1.01884419 -1.24149031]\n",
            " [-1.01884419 -0.16615865]\n",
            " [ 0.98150435  1.26761688]\n",
            " [ 0.98150435 -0.04667736]\n",
            " [ 0.98150435 -0.40512124]\n",
            " [ 0.98150435  0.55072911]\n",
            " [-1.01884419 -0.52460254]\n",
            " [ 0.98150435 -0.16615865]\n",
            " [ 0.98150435 -0.40512124]\n",
            " [ 0.98150435 -1.00252772]\n",
            " [-1.01884419  0.31176653]\n",
            " [ 0.98150435 -1.24149031]\n",
            " [-1.01884419  1.26761688]\n",
            " [ 0.98150435 -1.24149031]\n",
            " [-1.01884419 -0.40512124]\n",
            " [-1.01884419  0.07280394]\n",
            " [-1.01884419 -1.00252772]\n",
            " [ 0.98150435  0.55072911]\n",
            " [ 0.98150435  0.19228523]\n",
            " [ 0.98150435  1.38709818]\n",
            " [-1.01884419  0.19228523]\n",
            " [ 0.98150435 -1.24149031]\n",
            " [-1.01884419  0.55072911]\n",
            " [ 0.98150435  0.31176653]\n",
            " [ 0.98150435  1.14813559]\n",
            " [-1.01884419  0.07280394]\n",
            " [ 0.98150435  1.26761688]\n",
            " [-1.01884419 -1.24149031]\n",
            " [-1.01884419  1.62606077]\n",
            " [ 0.98150435 -1.24149031]\n",
            " [ 0.98150435  0.43124782]\n",
            " [ 0.98150435  0.19228523]\n",
            " [ 0.98150435  1.74554206]\n",
            " [-1.01884419  0.31176653]\n",
            " [ 0.98150435  1.02865429]\n",
            " [-1.01884419  0.43124782]\n",
            " [ 0.98150435 -0.16615865]\n",
            " [-1.01884419 -0.16615865]\n",
            " [ 0.98150435 -0.28563995]\n",
            " [-1.01884419  1.50657947]\n",
            " [ 0.98150435  0.31176653]\n",
            " [-1.01884419 -0.40512124]\n",
            " [ 0.98150435 -0.04667736]\n",
            " [-1.01884419  0.19228523]\n",
            " [ 0.98150435  1.38709818]\n",
            " [-1.01884419 -1.24149031]\n",
            " [ 0.98150435 -1.24149031]\n",
            " [-1.01884419 -1.24149031]\n",
            " [-1.01884419  0.07280394]\n",
            " [-1.01884419 -1.00252772]\n",
            " [-1.01884419  0.43124782]\n",
            " [ 0.98150435  1.38709818]\n",
            " [ 0.98150435 -0.28563995]\n",
            " [ 0.98150435 -0.76356513]\n",
            " [ 0.98150435 -1.24149031]\n",
            " [ 0.98150435  1.50657947]\n",
            " [ 0.98150435  0.31176653]\n",
            " [-1.01884419 -1.24149031]\n",
            " [ 0.98150435  0.07280394]\n",
            " [ 0.98150435 -1.24149031]\n",
            " [ 0.98150435 -0.28563995]\n",
            " [-1.01884419 -1.24149031]\n",
            " [ 0.98150435 -0.04667736]\n",
            " [ 0.98150435 -1.24149031]\n",
            " [ 0.98150435  1.26761688]\n",
            " [-1.01884419 -1.24149031]\n",
            " [ 0.98150435 -0.76356513]\n",
            " [-1.01884419 -1.12200901]\n",
            " [ 0.98150435  1.14813559]\n",
            " [ 0.98150435 -1.24149031]\n",
            " [ 0.98150435 -0.04667736]\n",
            " [-1.01884419 -0.88304642]\n",
            " [-1.01884419  0.43124782]\n",
            " [ 0.98150435 -0.64408383]\n",
            " [ 0.98150435 -0.88304642]\n",
            " [ 0.98150435 -1.24149031]\n",
            " [-1.01884419  0.67021041]\n",
            " [-1.01884419  1.74554206]\n",
            " [-1.01884419 -1.24149031]\n",
            " [ 0.98150435  1.38709818]\n",
            " [ 0.98150435 -0.04667736]\n",
            " [-1.01884419 -0.52460254]\n",
            " [ 0.98150435 -0.52460254]\n",
            " [-1.01884419 -1.24149031]\n",
            " [ 0.98150435 -1.24149031]\n",
            " [-1.01884419 -0.88304642]\n",
            " [ 0.98150435  1.14813559]\n",
            " [ 0.98150435 -1.00252772]\n",
            " [ 0.98150435  1.14813559]\n",
            " [-1.01884419  0.07280394]\n",
            " [-1.01884419  0.7896917 ]\n",
            " [-1.01884419  1.50657947]\n",
            " [ 0.98150435  0.67021041]\n",
            " [-1.01884419 -1.24149031]\n",
            " [-1.01884419 -1.12200901]\n",
            " [-1.01884419  1.02865429]\n",
            " [-1.01884419 -1.00252772]\n",
            " [ 0.98150435 -1.00252772]\n",
            " [ 0.98150435  0.55072911]\n",
            " [-1.01884419  0.31176653]\n",
            " [ 0.98150435 -0.76356513]\n",
            " [ 0.98150435  1.14813559]\n",
            " [ 0.98150435  1.02865429]\n",
            " [ 0.98150435  1.50657947]\n",
            " [-1.01884419  1.14813559]\n",
            " [-1.01884419  1.62606077]\n",
            " [-1.01884419 -0.64408383]\n",
            " [ 0.98150435  0.07280394]\n",
            " [ 0.98150435 -1.00252772]\n",
            " [ 0.98150435 -1.00252772]\n",
            " [-1.01884419  0.31176653]\n",
            " [-1.01884419 -0.64408383]\n",
            " [-1.01884419 -0.88304642]\n",
            " [-1.01884419  1.26761688]\n",
            " [-1.01884419 -0.04667736]\n",
            " [ 0.98150435  0.19228523]\n",
            " [ 0.98150435 -0.52460254]\n",
            " [ 0.98150435  1.02865429]\n",
            " [-1.01884419 -1.00252772]\n",
            " [-1.01884419 -0.40512124]\n",
            " [ 0.98150435  0.7896917 ]\n",
            " [ 0.98150435 -1.24149031]\n",
            " [ 0.98150435 -0.76356513]\n",
            " [-1.01884419  1.74554206]\n",
            " [-1.01884419 -0.28563995]\n",
            " [-1.01884419  1.50657947]\n",
            " [-1.01884419  0.55072911]\n",
            " [ 0.98150435  0.19228523]\n",
            " [ 0.98150435  0.19228523]\n",
            " [ 0.98150435  1.62606077]\n",
            " [ 0.98150435  1.14813559]\n",
            " [ 0.98150435  0.55072911]\n",
            " [ 0.98150435  0.31176653]\n",
            " [ 0.98150435  0.7896917 ]\n",
            " [ 0.98150435 -1.12200901]\n",
            " [-1.01884419 -0.52460254]\n",
            " [-1.01884419  0.19228523]\n",
            " [ 0.98150435 -0.52460254]\n",
            " [ 0.98150435  1.14813559]\n",
            " [-1.01884419 -0.40512124]\n",
            " [ 0.98150435 -1.12200901]\n",
            " [ 0.98150435 -0.40512124]\n",
            " [ 0.98150435 -1.24149031]\n",
            " [-1.01884419  1.62606077]\n",
            " [-1.01884419  1.26761688]\n",
            " [-1.01884419  0.07280394]\n",
            " [ 0.98150435  0.07280394]\n",
            " [-1.01884419 -0.40512124]\n",
            " [ 0.98150435  0.31176653]\n",
            " [-1.01884419 -0.16615865]\n",
            " [-1.01884419  0.67021041]\n",
            " [-1.01884419 -1.12200901]\n",
            " [ 0.98150435  1.62606077]\n",
            " [-1.01884419  1.26761688]\n",
            " [-1.01884419 -0.04667736]\n",
            " [-1.01884419  0.7896917 ]\n",
            " [ 0.98150435 -0.64408383]\n",
            " [-1.01884419 -0.16615865]\n",
            " [ 0.98150435 -0.52460254]\n",
            " [-1.01884419  1.02865429]\n",
            " [ 0.98150435 -0.64408383]\n",
            " [ 0.98150435 -0.04667736]\n",
            " [-1.01884419  1.26761688]\n",
            " [-1.01884419 -1.24149031]\n",
            " [ 0.98150435  1.14813559]\n",
            " [-1.01884419 -0.16615865]\n",
            " [-1.01884419  0.07280394]\n",
            " [-1.01884419 -0.28563995]\n",
            " [-1.01884419 -1.24149031]\n",
            " [ 0.98150435  1.62606077]\n",
            " [ 0.98150435  1.74554206]\n",
            " [ 0.98150435  1.74554206]\n",
            " [-1.01884419  0.909173  ]\n",
            " [ 0.98150435 -1.24149031]\n",
            " [-1.01884419 -0.28563995]\n",
            " [ 0.98150435 -0.88304642]\n",
            " [ 0.98150435  0.43124782]\n",
            " [ 0.98150435  1.62606077]\n",
            " [ 0.98150435 -1.24149031]\n",
            " [ 0.98150435 -0.04667736]\n",
            " [ 0.98150435  1.50657947]\n",
            " [ 0.98150435  0.67021041]\n",
            " [-1.01884419 -0.28563995]\n",
            " [ 0.98150435  1.74554206]\n",
            " [ 0.98150435 -0.28563995]\n",
            " [ 0.98150435  1.62606077]\n",
            " [ 0.98150435  0.55072911]\n",
            " [-1.01884419 -0.64408383]\n",
            " [-1.01884419 -1.24149031]\n",
            " [ 0.98150435  1.02865429]\n",
            " [-1.01884419  1.38709818]\n",
            " [-1.01884419  0.55072911]\n",
            " [-1.01884419 -1.24149031]\n",
            " [ 0.98150435 -1.24149031]\n",
            " [ 0.98150435 -0.52460254]\n",
            " [-1.01884419 -1.24149031]\n",
            " [ 0.98150435 -1.24149031]\n",
            " [-1.01884419 -0.28563995]\n",
            " [-1.01884419 -1.24149031]\n",
            " [ 0.98150435  0.07280394]\n",
            " [-1.01884419 -0.28563995]\n",
            " [-1.01884419 -0.16615865]\n",
            " [ 0.98150435 -1.12200901]\n",
            " [ 0.98150435  0.7896917 ]\n",
            " [-1.01884419 -1.12200901]\n",
            " [ 0.98150435 -0.04667736]\n",
            " [-1.01884419 -1.24149031]\n",
            " [-1.01884419 -1.24149031]\n",
            " [ 0.98150435  0.55072911]\n",
            " [-1.01884419 -1.24149031]\n",
            " [ 0.98150435 -0.16615865]\n",
            " [-1.01884419 -1.24149031]\n",
            " [ 0.98150435  1.02865429]\n",
            " [ 0.98150435  1.50657947]\n",
            " [-1.01884419 -0.28563995]\n",
            " [ 0.98150435 -0.88304642]\n",
            " [ 0.98150435  0.55072911]\n",
            " [ 0.98150435  0.55072911]\n",
            " [ 0.98150435 -1.24149031]\n",
            " [-1.01884419  0.909173  ]\n",
            " [ 0.98150435  0.19228523]\n",
            " [-1.01884419  1.26761688]\n",
            " [ 0.98150435 -1.24149031]\n",
            " [-1.01884419 -1.24149031]\n",
            " [ 0.98150435 -1.24149031]\n",
            " [-1.01884419 -0.52460254]\n",
            " [-1.01884419 -1.24149031]\n",
            " [ 0.98150435  1.02865429]\n",
            " [ 0.98150435  0.55072911]\n",
            " [-1.01884419 -0.28563995]\n",
            " [-1.01884419 -1.12200901]\n",
            " [-1.01884419 -0.28563995]\n",
            " [-1.01884419  1.74554206]\n",
            " [ 0.98150435  1.38709818]\n",
            " [-1.01884419  0.909173  ]\n",
            " [-1.01884419 -1.24149031]\n",
            " [ 0.98150435  1.26761688]\n",
            " [-1.01884419  0.31176653]\n",
            " [-1.01884419 -0.88304642]\n",
            " [ 0.98150435  1.50657947]\n",
            " [-1.01884419  0.07280394]\n",
            " [-1.01884419  0.7896917 ]]\n"
          ],
          "name": "stdout"
        }
      ]
    },
    {
      "cell_type": "code",
      "metadata": {
        "colab": {
          "base_uri": "https://localhost:8080/"
        },
        "id": "RhTR7kC3FFjr",
        "outputId": "67c73ab6-ae85-405d-8aec-0eaa45b40ebe"
      },
      "source": [
        "from sklearn.neighbors import KNeighborsClassifier\n",
        "classifier = KNeighborsClassifier(n_neighbors = 5, metric= 'minkowski', p = 2)\n",
        "classifier.fit(x_train,y_train)"
      ],
      "execution_count": 55,
      "outputs": [
        {
          "output_type": "execute_result",
          "data": {
            "text/plain": [
              "KNeighborsClassifier(algorithm='auto', leaf_size=30, metric='minkowski',\n",
              "                     metric_params=None, n_jobs=None, n_neighbors=5, p=2,\n",
              "                     weights='uniform')"
            ]
          },
          "metadata": {
            "tags": []
          },
          "execution_count": 55
        }
      ]
    },
    {
      "cell_type": "code",
      "metadata": {
        "id": "s_oZMb_DJJGr"
      },
      "source": [
        "y_pred = classifier.predict(x_test)"
      ],
      "execution_count": 56,
      "outputs": []
    },
    {
      "cell_type": "code",
      "metadata": {
        "colab": {
          "base_uri": "https://localhost:8080/"
        },
        "id": "6CzEkXmXJ72N",
        "outputId": "a21ed498-49ce-4928-ac4e-a7f601325fde"
      },
      "source": [
        "from sklearn.metrics import confusion_matrix\n",
        "cm = confusion_matrix(y_test, y_pred)\n",
        "print(cm)"
      ],
      "execution_count": 57,
      "outputs": [
        {
          "output_type": "stream",
          "text": [
            "[[60 59]\n",
            " [71 60]]\n"
          ],
          "name": "stdout"
        }
      ]
    },
    {
      "cell_type": "code",
      "metadata": {
        "colab": {
          "base_uri": "https://localhost:8080/",
          "height": 352
        },
        "id": "czKG9CJgKYfD",
        "outputId": "87e807b7-6162-4868-cd3e-7e8189d56ab3"
      },
      "source": [
        "from matplotlib.colors import ListedColormap\n",
        "x_set,y_set = x_train,y_train\n",
        "x1,x2 = np.meshgrid(np.arange(start = x_set[:,0].min()-1, stop = x_set[:,0].max()+1, step = 0.01),\n",
        "                    np.arange(start = x_set[:,1].min()-1, stop = x_set[:,0].max()+1, step = 0.01))\n",
        "plt.contourf(x1,x2, classifier.predict(np.array([x1.ravel(), x2.ravel()]).T).reshape(x1.shape),\n",
        "             alpha = 0.75, cmap = ListedColormap(('red','green')))\n",
        "plt.xlim(x1.min(),x1.max())\n",
        "plt.ylim(x2.min(),x2.max())\n",
        "for i,j in enumerate (np.unique(y_set)):\n",
        "  plt.scatter(x_set[y_set == j, 0], x_set[y_set == j, 1],\n",
        "              c= ListedColormap(('red', 'green'))(i),label = j)\n",
        "plt.title('K-NN (Training Set)')\n",
        "plt.xlabel('Blue')\n",
        "plt.ylabel('Clock Speed')\n",
        "plt.legend()\n",
        "plt.show()"
      ],
      "execution_count": 58,
      "outputs": [
        {
          "output_type": "stream",
          "text": [
            "*c* argument looks like a single numeric RGB or RGBA sequence, which should be avoided as value-mapping will have precedence in case its length matches with *x* & *y*.  Please use the *color* keyword-argument or provide a 2-D array with a single row if you intend to specify the same RGB or RGBA value for all points.\n",
            "*c* argument looks like a single numeric RGB or RGBA sequence, which should be avoided as value-mapping will have precedence in case its length matches with *x* & *y*.  Please use the *color* keyword-argument or provide a 2-D array with a single row if you intend to specify the same RGB or RGBA value for all points.\n"
          ],
          "name": "stderr"
        },
        {
          "output_type": "display_data",
          "data": {
            "image/png": "[encoded data removed]",
            "text/plain": [
              "<Figure size 432x288 with 1 Axes>"
            ]
          },
          "metadata": {
            "tags": [],
            "needs_background": "light"
          }
        }
      ]
    },
    {
      "cell_type": "code",
      "metadata": {
        "colab": {
          "base_uri": "https://localhost:8080/",
          "height": 352
        },
        "id": "kRjG2ls5O4Em",
        "outputId": "445aab29-8241-438c-92d5-d681dca60947"
      },
      "source": [
        "from matplotlib.colors import ListedColormap\n",
        "x_set,y_set = x_test,y_test\n",
        "x1,x2 = np.meshgrid(np.arange(start = x_set[:,0].min()-1, stop = x_set[:,0].max()+1, step = 0.01),\n",
        "                    np.arange(start = x_set[:,1].min()-1, stop = x_set[:,0].max()+1, step = 0.01))\n",
        "plt.contourf(x1,x2, classifier.predict(np.array([x1.ravel(), x2.ravel()]).T).reshape(x1.shape),\n",
        "             alpha = 0.75, cmap = ListedColormap(('red','green')))\n",
        "plt.xlim(x1.min(),x1.max())\n",
        "plt.ylim(x2.min(),x2.max())\n",
        "for i,j in enumerate (np.unique(y_set)):\n",
        "  plt.scatter(x_set[y_set == j, 0], x_set[y_set == j, 1],\n",
        "              c= ListedColormap(('red', 'green'))(i),label = j)\n",
        "plt.title('K-NN (Training Set)')\n",
        "plt.xlabel('Blue')\n",
        "plt.ylabel('Clock Speed')\n",
        "plt.legend()\n",
        "plt.show()"
      ],
      "execution_count": 59,
      "outputs": [
        {
          "output_type": "stream",
          "text": [
            "*c* argument looks like a single numeric RGB or RGBA sequence, which should be avoided as value-mapping will have precedence in case its length matches with *x* & *y*.  Please use the *color* keyword-argument or provide a 2-D array with a single row if you intend to specify the same RGB or RGBA value for all points.\n",
            "*c* argument looks like a single numeric RGB or RGBA sequence, which should be avoided as value-mapping will have precedence in case its length matches with *x* & *y*.  Please use the *color* keyword-argument or provide a 2-D array with a single row if you intend to specify the same RGB or RGBA value for all points.\n"
          ],
          "name": "stderr"
        },
        {
          "output_type": "display_data",
          "data": {
            "image/png": "[encoded data removed]",
            "text/plain": [
              "<Figure size 432x288 with 1 Axes>"
            ]
          },
          "metadata": {
            "tags": [],
            "needs_background": "light"
          }
        }
      ]
    }
  ]
}